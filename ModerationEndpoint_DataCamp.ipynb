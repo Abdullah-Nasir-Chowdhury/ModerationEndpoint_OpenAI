{
 "cells": [
  {
   "cell_type": "markdown",
   "id": "39b7ffba",
   "metadata": {},
   "source": [
    "## Setup the environment"
   ]
  },
  {
   "cell_type": "code",
   "execution_count": 1,
   "id": "513a0a45",
   "metadata": {},
   "outputs": [
    {
     "data": {
      "text/plain": [
       "True"
      ]
     },
     "execution_count": 1,
     "metadata": {},
     "output_type": "execute_result"
    }
   ],
   "source": [
    "import os, openai, dotenv\n",
    "from dotenv import main\n",
    "main.load_dotenv()"
   ]
  },
  {
   "cell_type": "markdown",
   "id": "30b37cf4",
   "metadata": {},
   "source": [
    "## Set your API key"
   ]
  },
  {
   "cell_type": "code",
   "execution_count": 3,
   "id": "8e4d719c",
   "metadata": {},
   "outputs": [],
   "source": [
    "openai.api_key = os.getenv(\"OPENAI_API_KEY\")"
   ]
  },
  {
   "cell_type": "markdown",
   "id": "285d9b47",
   "metadata": {},
   "source": [
    "### Check input"
   ]
  },
  {
   "cell_type": "code",
   "execution_count": 6,
   "id": "8d131336",
   "metadata": {},
   "outputs": [
    {
     "name": "stdout",
     "output_type": "stream",
     "text": [
      "{\n",
      "  \"id\": \"modr-8CwyRfwtyazgvvDRnZhCawFMAZI7A\",\n",
      "  \"model\": \"text-moderation-006\",\n",
      "  \"results\": [\n",
      "    {\n",
      "      \"flagged\": false,\n",
      "      \"categories\": {\n",
      "        \"sexual\": false,\n",
      "        \"hate\": false,\n",
      "        \"harassment\": false,\n",
      "        \"self-harm\": false,\n",
      "        \"sexual/minors\": false,\n",
      "        \"hate/threatening\": false,\n",
      "        \"violence/graphic\": false,\n",
      "        \"self-harm/intent\": false,\n",
      "        \"self-harm/instructions\": false,\n",
      "        \"harassment/threatening\": false,\n",
      "        \"violence\": false\n",
      "      },\n",
      "      \"category_scores\": {\n",
      "        \"sexual\": 9.762558875081595e-06,\n",
      "        \"hate\": 2.5473559617239516e-06,\n",
      "        \"harassment\": 0.00032712239772081375,\n",
      "        \"self-harm\": 4.047534730489133e-06,\n",
      "        \"sexual/minors\": 9.65998125934675e-08,\n",
      "        \"hate/threatening\": 1.5451952606326813e-07,\n",
      "        \"violence/graphic\": 8.018093467399012e-06,\n",
      "        \"self-harm/intent\": 9.905783144859015e-07,\n",
      "        \"self-harm/instructions\": 5.960139604077597e-10,\n",
      "        \"harassment/threatening\": 2.649448288138956e-05,\n",
      "        \"violence\": 0.004424232058227062\n",
      "      }\n",
      "    }\n",
      "  ]\n",
      "}\n"
     ]
    }
   ],
   "source": [
    "response = openai.Moderation.create(\n",
    "    model = \"text-moderation-latest\",\n",
    "    input = \"I would kill for a burger now\"\n",
    ")\n",
    "print(response)"
   ]
  },
  {
   "cell_type": "markdown",
   "id": "d4d11e11",
   "metadata": {},
   "source": [
    "### Extract category_scores"
   ]
  },
  {
   "cell_type": "code",
   "execution_count": 10,
   "id": "ca0bdd96",
   "metadata": {},
   "outputs": [
    {
     "name": "stdout",
     "output_type": "stream",
     "text": [
      "[<OpenAIObject at 0x21017dae7c0> JSON: {\n",
      "  \"flagged\": false,\n",
      "  \"categories\": {\n",
      "    \"sexual\": false,\n",
      "    \"hate\": false,\n",
      "    \"harassment\": false,\n",
      "    \"self-harm\": false,\n",
      "    \"sexual/minors\": false,\n",
      "    \"hate/threatening\": false,\n",
      "    \"violence/graphic\": false,\n",
      "    \"self-harm/intent\": false,\n",
      "    \"self-harm/instructions\": false,\n",
      "    \"harassment/threatening\": false,\n",
      "    \"violence\": false\n",
      "  },\n",
      "  \"category_scores\": {\n",
      "    \"sexual\": 9.762558875081595e-06,\n",
      "    \"hate\": 2.5473559617239516e-06,\n",
      "    \"harassment\": 0.00032712239772081375,\n",
      "    \"self-harm\": 4.047534730489133e-06,\n",
      "    \"sexual/minors\": 9.65998125934675e-08,\n",
      "    \"hate/threatening\": 1.5451952606326813e-07,\n",
      "    \"violence/graphic\": 8.018093467399012e-06,\n",
      "    \"self-harm/intent\": 9.905783144859015e-07,\n",
      "    \"self-harm/instructions\": 5.960139604077597e-10,\n",
      "    \"harassment/threatening\": 2.649448288138956e-05,\n",
      "    \"violence\": 0.004424232058227062\n",
      "  }\n",
      "}]\n"
     ]
    }
   ],
   "source": [
    "print(response.results)"
   ]
  },
  {
   "cell_type": "code",
   "execution_count": 11,
   "id": "66a4c565",
   "metadata": {},
   "outputs": [
    {
     "name": "stdout",
     "output_type": "stream",
     "text": [
      "{\n",
      "  \"flagged\": false,\n",
      "  \"categories\": {\n",
      "    \"sexual\": false,\n",
      "    \"hate\": false,\n",
      "    \"harassment\": false,\n",
      "    \"self-harm\": false,\n",
      "    \"sexual/minors\": false,\n",
      "    \"hate/threatening\": false,\n",
      "    \"violence/graphic\": false,\n",
      "    \"self-harm/intent\": false,\n",
      "    \"self-harm/instructions\": false,\n",
      "    \"harassment/threatening\": false,\n",
      "    \"violence\": false\n",
      "  },\n",
      "  \"category_scores\": {\n",
      "    \"sexual\": 9.762558875081595e-06,\n",
      "    \"hate\": 2.5473559617239516e-06,\n",
      "    \"harassment\": 0.00032712239772081375,\n",
      "    \"self-harm\": 4.047534730489133e-06,\n",
      "    \"sexual/minors\": 9.65998125934675e-08,\n",
      "    \"hate/threatening\": 1.5451952606326813e-07,\n",
      "    \"violence/graphic\": 8.018093467399012e-06,\n",
      "    \"self-harm/intent\": 9.905783144859015e-07,\n",
      "    \"self-harm/instructions\": 5.960139604077597e-10,\n",
      "    \"harassment/threatening\": 2.649448288138956e-05,\n",
      "    \"violence\": 0.004424232058227062\n",
      "  }\n",
      "}\n"
     ]
    }
   ],
   "source": [
    "print(response.results[0])"
   ]
  },
  {
   "cell_type": "code",
   "execution_count": 12,
   "id": "4da91f76",
   "metadata": {},
   "outputs": [
    {
     "name": "stdout",
     "output_type": "stream",
     "text": [
      "{\n",
      "  \"sexual\": 9.762558875081595e-06,\n",
      "  \"hate\": 2.5473559617239516e-06,\n",
      "  \"harassment\": 0.00032712239772081375,\n",
      "  \"self-harm\": 4.047534730489133e-06,\n",
      "  \"sexual/minors\": 9.65998125934675e-08,\n",
      "  \"hate/threatening\": 1.5451952606326813e-07,\n",
      "  \"violence/graphic\": 8.018093467399012e-06,\n",
      "  \"self-harm/intent\": 9.905783144859015e-07,\n",
      "  \"self-harm/instructions\": 5.960139604077597e-10,\n",
      "  \"harassment/threatening\": 2.649448288138956e-05,\n",
      "  \"violence\": 0.004424232058227062\n",
      "}\n"
     ]
    }
   ],
   "source": [
    "print(response.results[0].category_scores)"
   ]
  },
  {
   "cell_type": "code",
   "execution_count": null,
   "id": "d58c5882",
   "metadata": {},
   "outputs": [],
   "source": []
  }
 ],
 "metadata": {
  "kernelspec": {
   "display_name": "Python 3 (ipykernel)",
   "language": "python",
   "name": "python3"
  },
  "language_info": {
   "codemirror_mode": {
    "name": "ipython",
    "version": 3
   },
   "file_extension": ".py",
   "mimetype": "text/x-python",
   "name": "python",
   "nbconvert_exporter": "python",
   "pygments_lexer": "ipython3",
   "version": "3.9.12"
  }
 },
 "nbformat": 4,
 "nbformat_minor": 5
}
